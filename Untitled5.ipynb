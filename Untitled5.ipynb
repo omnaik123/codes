{
  "nbformat": 4,
  "nbformat_minor": 0,
  "metadata": {
    "colab": {
      "provenance": []
    },
    "kernelspec": {
      "name": "python3",
      "display_name": "Python 3"
    },
    "language_info": {
      "name": "python"
    }
  },
  "cells": [
    {
      "cell_type": "code",
      "execution_count": 2,
      "metadata": {
        "colab": {
          "base_uri": "https://localhost:8080/"
        },
        "id": "ri5Pq658U177",
        "outputId": "63f33260-80a9-4961-bfcc-3d7426978b94"
      },
      "outputs": [
        {
          "output_type": "stream",
          "name": "stdout",
          "text": [
            "Downloading data from https://storage.googleapis.com/tensorflow/tf-keras-datasets/boston_housing.npz\n",
            "\u001b[1m57026/57026\u001b[0m \u001b[32m━━━━━━━━━━━━━━━━━━━━\u001b[0m\u001b[37m\u001b[0m \u001b[1m0s\u001b[0m 0us/step\n"
          ]
        }
      ],
      "source": [
        "import tensorflow as tf\n",
        "from tensorflow.keras.datasets import boston_housing\n",
        "from sklearn import preprocessing\n",
        "(x_train,y_train),(x_test,y_test)=boston_housing.load_data()\n",
        "\n"
      ]
    },
    {
      "cell_type": "code",
      "source": [
        "print(\"Train shape :\", x_train.shape)\n",
        "print(\"Test shape :\", x_test.shape)\n",
        "print(\"Actual Train output :\", y_train.shape)\n",
        "print(\"Actual Test output:\", y_test.shape)\n",
        "\n"
      ],
      "metadata": {
        "colab": {
          "base_uri": "https://localhost:8080/"
        },
        "id": "FqtUjM_LWpZz",
        "outputId": "78525933-9ed6-4faa-f5b8-ac07d2aa68d1"
      },
      "execution_count": 9,
      "outputs": [
        {
          "output_type": "stream",
          "name": "stdout",
          "text": [
            "Train shape : (404, 13)\n",
            "Test shape : (102, 13)\n",
            "Actual Train output : (404,)\n",
            "Actual Test output: (102,)\n"
          ]
        }
      ]
    },
    {
      "cell_type": "code",
      "source": [
        "x_train[0]"
      ],
      "metadata": {
        "colab": {
          "base_uri": "https://localhost:8080/"
        },
        "id": "1jkQFHdEZu9a",
        "outputId": "2e88253a-19ad-422b-aeaf-fa3fae238944"
      },
      "execution_count": 10,
      "outputs": [
        {
          "output_type": "execute_result",
          "data": {
            "text/plain": [
              "array([  1.23247,   0.     ,   8.14   ,   0.     ,   0.538  ,   6.142  ,\n",
              "        91.7    ,   3.9769 ,   4.     , 307.     ,  21.     , 396.9    ,\n",
              "        18.72   ])"
            ]
          },
          "metadata": {},
          "execution_count": 10
        }
      ]
    },
    {
      "cell_type": "code",
      "source": [
        "y_train[0]"
      ],
      "metadata": {
        "colab": {
          "base_uri": "https://localhost:8080/"
        },
        "id": "3PjGKqISZ4AW",
        "outputId": "3dd4eb01-de51-4051-e1c0-a95a2378a0ed"
      },
      "execution_count": 11,
      "outputs": [
        {
          "output_type": "execute_result",
          "data": {
            "text/plain": [
              "15.2"
            ]
          },
          "metadata": {},
          "execution_count": 11
        }
      ]
    },
    {
      "cell_type": "code",
      "source": [
        "x_train=preprocessing.normalize(x_train)\n",
        "x_test=preprocessing.normalize(x_test)"
      ],
      "metadata": {
        "id": "PD7KU4muaIk_"
      },
      "execution_count": 12,
      "outputs": []
    },
    {
      "cell_type": "code",
      "source": [
        "x_train[0]"
      ],
      "metadata": {
        "colab": {
          "base_uri": "https://localhost:8080/"
        },
        "id": "DQ3Ng9gbaXLP",
        "outputId": "bd904abf-30d7-4115-f6a1-b3ff845fb1ab"
      },
      "execution_count": 13,
      "outputs": [
        {
          "output_type": "execute_result",
          "data": {
            "text/plain": [
              "array([0.0024119 , 0.        , 0.01592969, 0.        , 0.00105285,\n",
              "       0.01201967, 0.17945359, 0.00778265, 0.00782786, 0.6007879 ,\n",
              "       0.04109624, 0.77671895, 0.03663436])"
            ]
          },
          "metadata": {},
          "execution_count": 13
        }
      ]
    },
    {
      "cell_type": "code",
      "source": [
        "y_train[0]"
      ],
      "metadata": {
        "colab": {
          "base_uri": "https://localhost:8080/"
        },
        "id": "OucZqtwHaex3",
        "outputId": "159bfb45-0f5b-490e-b5c2-29cee02cdb1b"
      },
      "execution_count": 14,
      "outputs": [
        {
          "output_type": "execute_result",
          "data": {
            "text/plain": [
              "15.2"
            ]
          },
          "metadata": {},
          "execution_count": 14
        }
      ]
    },
    {
      "cell_type": "code",
      "source": [
        "from tensorflow.keras.models import Sequential\n",
        "from tensorflow.keras.layers import *\n",
        "\n",
        "def HousePricePredictionModel():\n",
        "    model=Sequential()\n",
        "    model.add(Dense(128,activation='relu',input_shape=(x_train[0].shape)))\n",
        "    model.add(Dense(64,activation='relu'))\n",
        "    model.add(Dense(32,activation='relu'))\n",
        "    model.add(Dense(1))\n",
        "    model.compile(optimizer='rmsprop',loss='mse',metrics=['mae'])\n",
        "    return model"
      ],
      "metadata": {
        "id": "C0Dcd-7EapQM"
      },
      "execution_count": 15,
      "outputs": []
    },
    {
      "cell_type": "code",
      "source": [
        "import numpy as np\n",
        "k=4\n",
        "num_val_samples=len(x_train)//k\n",
        "num_epochs=100\n",
        "all_scores=[]"
      ],
      "metadata": {
        "id": "foLT2chca-N4"
      },
      "execution_count": 16,
      "outputs": []
    },
    {
      "cell_type": "code",
      "source": [
        "model = HousePricePredictionModel()\n",
        "history = model.fit(x_train, y_train, epochs=num_epochs, batch_size=1, verbose=1, validation_data=(x_test, y_test))"
      ],
      "metadata": {
        "colab": {
          "base_uri": "https://localhost:8080/"
        },
        "id": "JmPqQzBGbDtd",
        "outputId": "dba81ad9-f0a4-4b96-a3ef-91f3c7957bf0"
      },
      "execution_count": 17,
      "outputs": [
        {
          "output_type": "stream",
          "name": "stderr",
          "text": [
            "/usr/local/lib/python3.10/dist-packages/keras/src/layers/core/dense.py:87: UserWarning: Do not pass an `input_shape`/`input_dim` argument to a layer. When using Sequential models, prefer using an `Input(shape)` object as the first layer in the model instead.\n",
            "  super().__init__(activity_regularizer=activity_regularizer, **kwargs)\n"
          ]
        },
        {
          "output_type": "stream",
          "name": "stdout",
          "text": [
            "Epoch 1/100\n",
            "\u001b[1m404/404\u001b[0m \u001b[32m━━━━━━━━━━━━━━━━━━━━\u001b[0m\u001b[37m\u001b[0m \u001b[1m2s\u001b[0m 2ms/step - loss: 244.7646 - mae: 12.1340 - val_loss: 76.4045 - val_mae: 6.1709\n",
            "Epoch 2/100\n",
            "\u001b[1m404/404\u001b[0m \u001b[32m━━━━━━━━━━━━━━━━━━━━\u001b[0m\u001b[37m\u001b[0m \u001b[1m1s\u001b[0m 2ms/step - loss: 66.5220 - mae: 5.9057 - val_loss: 60.2302 - val_mae: 5.7944\n",
            "Epoch 3/100\n",
            "\u001b[1m404/404\u001b[0m \u001b[32m━━━━━━━━━━━━━━━━━━━━\u001b[0m\u001b[37m\u001b[0m \u001b[1m1s\u001b[0m 2ms/step - loss: 63.9983 - mae: 5.8133 - val_loss: 56.7296 - val_mae: 5.5438\n",
            "Epoch 4/100\n",
            "\u001b[1m404/404\u001b[0m \u001b[32m━━━━━━━━━━━━━━━━━━━━\u001b[0m\u001b[37m\u001b[0m \u001b[1m1s\u001b[0m 2ms/step - loss: 65.9828 - mae: 5.5151 - val_loss: 55.5984 - val_mae: 5.6867\n",
            "Epoch 5/100\n",
            "\u001b[1m404/404\u001b[0m \u001b[32m━━━━━━━━━━━━━━━━━━━━\u001b[0m\u001b[37m\u001b[0m \u001b[1m1s\u001b[0m 2ms/step - loss: 64.9460 - mae: 5.4988 - val_loss: 55.9452 - val_mae: 5.4209\n",
            "Epoch 6/100\n",
            "\u001b[1m404/404\u001b[0m \u001b[32m━━━━━━━━━━━━━━━━━━━━\u001b[0m\u001b[37m\u001b[0m \u001b[1m1s\u001b[0m 2ms/step - loss: 66.9453 - mae: 5.2658 - val_loss: 56.2887 - val_mae: 5.3690\n",
            "Epoch 7/100\n",
            "\u001b[1m404/404\u001b[0m \u001b[32m━━━━━━━━━━━━━━━━━━━━\u001b[0m\u001b[37m\u001b[0m \u001b[1m1s\u001b[0m 2ms/step - loss: 53.7376 - mae: 5.2284 - val_loss: 51.7691 - val_mae: 5.2250\n",
            "Epoch 8/100\n",
            "\u001b[1m404/404\u001b[0m \u001b[32m━━━━━━━━━━━━━━━━━━━━\u001b[0m\u001b[37m\u001b[0m \u001b[1m1s\u001b[0m 2ms/step - loss: 56.4963 - mae: 5.1762 - val_loss: 56.2194 - val_mae: 5.2842\n",
            "Epoch 9/100\n",
            "\u001b[1m404/404\u001b[0m \u001b[32m━━━━━━━━━━━━━━━━━━━━\u001b[0m\u001b[37m\u001b[0m \u001b[1m2s\u001b[0m 3ms/step - loss: 49.5114 - mae: 4.6942 - val_loss: 56.0634 - val_mae: 5.2531\n",
            "Epoch 10/100\n",
            "\u001b[1m404/404\u001b[0m \u001b[32m━━━━━━━━━━━━━━━━━━━━\u001b[0m\u001b[37m\u001b[0m \u001b[1m1s\u001b[0m 3ms/step - loss: 42.3900 - mae: 4.4097 - val_loss: 47.8866 - val_mae: 4.8808\n",
            "Epoch 11/100\n",
            "\u001b[1m404/404\u001b[0m \u001b[32m━━━━━━━━━━━━━━━━━━━━\u001b[0m\u001b[37m\u001b[0m \u001b[1m1s\u001b[0m 2ms/step - loss: 56.9321 - mae: 4.8683 - val_loss: 45.5288 - val_mae: 4.7845\n",
            "Epoch 12/100\n",
            "\u001b[1m404/404\u001b[0m \u001b[32m━━━━━━━━━━━━━━━━━━━━\u001b[0m\u001b[37m\u001b[0m \u001b[1m1s\u001b[0m 2ms/step - loss: 56.0230 - mae: 5.0768 - val_loss: 45.0696 - val_mae: 4.6602\n",
            "Epoch 13/100\n",
            "\u001b[1m404/404\u001b[0m \u001b[32m━━━━━━━━━━━━━━━━━━━━\u001b[0m\u001b[37m\u001b[0m \u001b[1m1s\u001b[0m 2ms/step - loss: 40.0978 - mae: 4.4269 - val_loss: 45.2555 - val_mae: 4.6365\n",
            "Epoch 14/100\n",
            "\u001b[1m404/404\u001b[0m \u001b[32m━━━━━━━━━━━━━━━━━━━━\u001b[0m\u001b[37m\u001b[0m \u001b[1m1s\u001b[0m 2ms/step - loss: 45.7036 - mae: 4.5630 - val_loss: 42.1691 - val_mae: 4.8524\n",
            "Epoch 15/100\n",
            "\u001b[1m404/404\u001b[0m \u001b[32m━━━━━━━━━━━━━━━━━━━━\u001b[0m\u001b[37m\u001b[0m \u001b[1m1s\u001b[0m 2ms/step - loss: 40.2399 - mae: 4.3837 - val_loss: 47.0424 - val_mae: 4.7601\n",
            "Epoch 16/100\n",
            "\u001b[1m404/404\u001b[0m \u001b[32m━━━━━━━━━━━━━━━━━━━━\u001b[0m\u001b[37m\u001b[0m \u001b[1m1s\u001b[0m 2ms/step - loss: 31.7959 - mae: 3.8001 - val_loss: 36.7092 - val_mae: 4.2364\n",
            "Epoch 17/100\n",
            "\u001b[1m404/404\u001b[0m \u001b[32m━━━━━━━━━━━━━━━━━━━━\u001b[0m\u001b[37m\u001b[0m \u001b[1m1s\u001b[0m 2ms/step - loss: 37.1895 - mae: 4.0866 - val_loss: 35.1398 - val_mae: 4.1776\n",
            "Epoch 18/100\n",
            "\u001b[1m404/404\u001b[0m \u001b[32m━━━━━━━━━━━━━━━━━━━━\u001b[0m\u001b[37m\u001b[0m \u001b[1m1s\u001b[0m 2ms/step - loss: 39.5265 - mae: 4.3309 - val_loss: 33.5914 - val_mae: 4.0694\n",
            "Epoch 19/100\n",
            "\u001b[1m404/404\u001b[0m \u001b[32m━━━━━━━━━━━━━━━━━━━━\u001b[0m\u001b[37m\u001b[0m \u001b[1m1s\u001b[0m 2ms/step - loss: 39.6495 - mae: 4.4428 - val_loss: 33.1280 - val_mae: 4.0238\n",
            "Epoch 20/100\n",
            "\u001b[1m404/404\u001b[0m \u001b[32m━━━━━━━━━━━━━━━━━━━━\u001b[0m\u001b[37m\u001b[0m \u001b[1m1s\u001b[0m 2ms/step - loss: 44.7687 - mae: 4.4720 - val_loss: 31.6328 - val_mae: 3.9158\n",
            "Epoch 21/100\n",
            "\u001b[1m404/404\u001b[0m \u001b[32m━━━━━━━━━━━━━━━━━━━━\u001b[0m\u001b[37m\u001b[0m \u001b[1m2s\u001b[0m 3ms/step - loss: 32.9208 - mae: 4.0172 - val_loss: 33.6873 - val_mae: 4.0139\n",
            "Epoch 22/100\n",
            "\u001b[1m404/404\u001b[0m \u001b[32m━━━━━━━━━━━━━━━━━━━━\u001b[0m\u001b[37m\u001b[0m \u001b[1m1s\u001b[0m 3ms/step - loss: 34.5397 - mae: 4.0373 - val_loss: 34.0270 - val_mae: 3.9935\n",
            "Epoch 23/100\n",
            "\u001b[1m404/404\u001b[0m \u001b[32m━━━━━━━━━━━━━━━━━━━━\u001b[0m\u001b[37m\u001b[0m \u001b[1m1s\u001b[0m 2ms/step - loss: 32.5470 - mae: 3.9280 - val_loss: 30.5681 - val_mae: 4.0590\n",
            "Epoch 24/100\n",
            "\u001b[1m404/404\u001b[0m \u001b[32m━━━━━━━━━━━━━━━━━━━━\u001b[0m\u001b[37m\u001b[0m \u001b[1m1s\u001b[0m 2ms/step - loss: 27.2956 - mae: 3.7158 - val_loss: 30.3223 - val_mae: 3.8789\n",
            "Epoch 25/100\n",
            "\u001b[1m404/404\u001b[0m \u001b[32m━━━━━━━━━━━━━━━━━━━━\u001b[0m\u001b[37m\u001b[0m \u001b[1m1s\u001b[0m 2ms/step - loss: 31.4517 - mae: 3.9431 - val_loss: 32.5812 - val_mae: 3.9395\n",
            "Epoch 26/100\n",
            "\u001b[1m404/404\u001b[0m \u001b[32m━━━━━━━━━━━━━━━━━━━━\u001b[0m\u001b[37m\u001b[0m \u001b[1m1s\u001b[0m 2ms/step - loss: 27.8042 - mae: 3.7881 - val_loss: 30.3260 - val_mae: 3.7936\n",
            "Epoch 27/100\n",
            "\u001b[1m404/404\u001b[0m \u001b[32m━━━━━━━━━━━━━━━━━━━━\u001b[0m\u001b[37m\u001b[0m \u001b[1m1s\u001b[0m 2ms/step - loss: 31.1922 - mae: 3.6913 - val_loss: 32.6235 - val_mae: 3.9321\n",
            "Epoch 28/100\n",
            "\u001b[1m404/404\u001b[0m \u001b[32m━━━━━━━━━━━━━━━━━━━━\u001b[0m\u001b[37m\u001b[0m \u001b[1m1s\u001b[0m 2ms/step - loss: 24.8478 - mae: 3.4622 - val_loss: 50.1951 - val_mae: 6.1443\n",
            "Epoch 29/100\n",
            "\u001b[1m404/404\u001b[0m \u001b[32m━━━━━━━━━━━━━━━━━━━━\u001b[0m\u001b[37m\u001b[0m \u001b[1m1s\u001b[0m 2ms/step - loss: 29.9659 - mae: 3.9057 - val_loss: 27.0512 - val_mae: 3.6959\n",
            "Epoch 30/100\n",
            "\u001b[1m404/404\u001b[0m \u001b[32m━━━━━━━━━━━━━━━━━━━━\u001b[0m\u001b[37m\u001b[0m \u001b[1m1s\u001b[0m 2ms/step - loss: 20.4049 - mae: 3.2861 - val_loss: 26.1491 - val_mae: 3.7742\n",
            "Epoch 31/100\n",
            "\u001b[1m404/404\u001b[0m \u001b[32m━━━━━━━━━━━━━━━━━━━━\u001b[0m\u001b[37m\u001b[0m \u001b[1m1s\u001b[0m 2ms/step - loss: 24.8107 - mae: 3.5508 - val_loss: 31.1406 - val_mae: 4.3849\n",
            "Epoch 32/100\n",
            "\u001b[1m404/404\u001b[0m \u001b[32m━━━━━━━━━━━━━━━━━━━━\u001b[0m\u001b[37m\u001b[0m \u001b[1m2s\u001b[0m 3ms/step - loss: 27.0484 - mae: 3.6236 - val_loss: 26.4685 - val_mae: 3.7668\n",
            "Epoch 33/100\n",
            "\u001b[1m404/404\u001b[0m \u001b[32m━━━━━━━━━━━━━━━━━━━━\u001b[0m\u001b[37m\u001b[0m \u001b[1m1s\u001b[0m 3ms/step - loss: 22.5743 - mae: 3.4319 - val_loss: 34.7305 - val_mae: 4.1274\n",
            "Epoch 34/100\n",
            "\u001b[1m404/404\u001b[0m \u001b[32m━━━━━━━━━━━━━━━━━━━━\u001b[0m\u001b[37m\u001b[0m \u001b[1m2s\u001b[0m 2ms/step - loss: 22.0126 - mae: 3.4123 - val_loss: 40.2676 - val_mae: 4.4388\n",
            "Epoch 35/100\n",
            "\u001b[1m404/404\u001b[0m \u001b[32m━━━━━━━━━━━━━━━━━━━━\u001b[0m\u001b[37m\u001b[0m \u001b[1m1s\u001b[0m 2ms/step - loss: 24.0849 - mae: 3.4613 - val_loss: 27.9850 - val_mae: 3.6938\n",
            "Epoch 36/100\n",
            "\u001b[1m404/404\u001b[0m \u001b[32m━━━━━━━━━━━━━━━━━━━━\u001b[0m\u001b[37m\u001b[0m \u001b[1m1s\u001b[0m 2ms/step - loss: 20.2985 - mae: 3.2052 - val_loss: 28.8896 - val_mae: 3.8037\n",
            "Epoch 37/100\n",
            "\u001b[1m404/404\u001b[0m \u001b[32m━━━━━━━━━━━━━━━━━━━━\u001b[0m\u001b[37m\u001b[0m \u001b[1m1s\u001b[0m 2ms/step - loss: 20.3306 - mae: 3.4111 - val_loss: 25.8469 - val_mae: 3.6350\n",
            "Epoch 38/100\n",
            "\u001b[1m404/404\u001b[0m \u001b[32m━━━━━━━━━━━━━━━━━━━━\u001b[0m\u001b[37m\u001b[0m \u001b[1m1s\u001b[0m 2ms/step - loss: 22.2072 - mae: 3.4008 - val_loss: 26.7039 - val_mae: 3.9437\n",
            "Epoch 39/100\n",
            "\u001b[1m404/404\u001b[0m \u001b[32m━━━━━━━━━━━━━━━━━━━━\u001b[0m\u001b[37m\u001b[0m \u001b[1m1s\u001b[0m 2ms/step - loss: 20.6518 - mae: 3.2344 - val_loss: 33.1620 - val_mae: 4.0869\n",
            "Epoch 40/100\n",
            "\u001b[1m404/404\u001b[0m \u001b[32m━━━━━━━━━━━━━━━━━━━━\u001b[0m\u001b[37m\u001b[0m \u001b[1m1s\u001b[0m 2ms/step - loss: 22.3637 - mae: 3.3828 - val_loss: 25.9617 - val_mae: 3.7924\n",
            "Epoch 41/100\n",
            "\u001b[1m404/404\u001b[0m \u001b[32m━━━━━━━━━━━━━━━━━━━━\u001b[0m\u001b[37m\u001b[0m \u001b[1m1s\u001b[0m 2ms/step - loss: 20.1992 - mae: 3.3130 - val_loss: 27.0919 - val_mae: 3.6677\n",
            "Epoch 42/100\n",
            "\u001b[1m404/404\u001b[0m \u001b[32m━━━━━━━━━━━━━━━━━━━━\u001b[0m\u001b[37m\u001b[0m \u001b[1m2s\u001b[0m 3ms/step - loss: 20.4048 - mae: 3.1560 - val_loss: 25.8058 - val_mae: 3.6659\n",
            "Epoch 43/100\n",
            "\u001b[1m404/404\u001b[0m \u001b[32m━━━━━━━━━━━━━━━━━━━━\u001b[0m\u001b[37m\u001b[0m \u001b[1m1s\u001b[0m 3ms/step - loss: 24.5407 - mae: 3.5187 - val_loss: 26.3182 - val_mae: 3.5882\n",
            "Epoch 44/100\n",
            "\u001b[1m404/404\u001b[0m \u001b[32m━━━━━━━━━━━━━━━━━━━━\u001b[0m\u001b[37m\u001b[0m \u001b[1m2s\u001b[0m 2ms/step - loss: 27.1723 - mae: 3.4830 - val_loss: 35.2190 - val_mae: 4.1522\n",
            "Epoch 45/100\n",
            "\u001b[1m404/404\u001b[0m \u001b[32m━━━━━━━━━━━━━━━━━━━━\u001b[0m\u001b[37m\u001b[0m \u001b[1m1s\u001b[0m 2ms/step - loss: 20.8506 - mae: 3.2563 - val_loss: 29.3948 - val_mae: 3.8306\n",
            "Epoch 46/100\n",
            "\u001b[1m404/404\u001b[0m \u001b[32m━━━━━━━━━━━━━━━━━━━━\u001b[0m\u001b[37m\u001b[0m \u001b[1m1s\u001b[0m 2ms/step - loss: 20.7407 - mae: 3.3321 - val_loss: 26.4167 - val_mae: 3.7734\n",
            "Epoch 47/100\n",
            "\u001b[1m404/404\u001b[0m \u001b[32m━━━━━━━━━━━━━━━━━━━━\u001b[0m\u001b[37m\u001b[0m \u001b[1m1s\u001b[0m 2ms/step - loss: 24.5990 - mae: 3.5898 - val_loss: 28.8800 - val_mae: 3.7640\n",
            "Epoch 48/100\n",
            "\u001b[1m404/404\u001b[0m \u001b[32m━━━━━━━━━━━━━━━━━━━━\u001b[0m\u001b[37m\u001b[0m \u001b[1m1s\u001b[0m 2ms/step - loss: 21.2399 - mae: 3.2910 - val_loss: 26.9543 - val_mae: 3.7617\n",
            "Epoch 49/100\n",
            "\u001b[1m404/404\u001b[0m \u001b[32m━━━━━━━━━━━━━━━━━━━━\u001b[0m\u001b[37m\u001b[0m \u001b[1m1s\u001b[0m 2ms/step - loss: 23.9451 - mae: 3.3066 - val_loss: 42.3184 - val_mae: 4.5508\n",
            "Epoch 50/100\n",
            "\u001b[1m404/404\u001b[0m \u001b[32m━━━━━━━━━━━━━━━━━━━━\u001b[0m\u001b[37m\u001b[0m \u001b[1m1s\u001b[0m 2ms/step - loss: 21.3926 - mae: 3.3696 - val_loss: 32.6750 - val_mae: 4.2942\n",
            "Epoch 51/100\n",
            "\u001b[1m404/404\u001b[0m \u001b[32m━━━━━━━━━━━━━━━━━━━━\u001b[0m\u001b[37m\u001b[0m \u001b[1m2s\u001b[0m 3ms/step - loss: 16.9973 - mae: 3.1407 - val_loss: 28.6215 - val_mae: 3.8363\n",
            "Epoch 52/100\n",
            "\u001b[1m404/404\u001b[0m \u001b[32m━━━━━━━━━━━━━━━━━━━━\u001b[0m\u001b[37m\u001b[0m \u001b[1m1s\u001b[0m 3ms/step - loss: 16.8392 - mae: 2.9940 - val_loss: 36.5413 - val_mae: 4.3406\n",
            "Epoch 53/100\n",
            "\u001b[1m404/404\u001b[0m \u001b[32m━━━━━━━━━━━━━━━━━━━━\u001b[0m\u001b[37m\u001b[0m \u001b[1m1s\u001b[0m 3ms/step - loss: 19.8323 - mae: 3.1922 - val_loss: 29.8346 - val_mae: 3.8089\n",
            "Epoch 54/100\n",
            "\u001b[1m404/404\u001b[0m \u001b[32m━━━━━━━━━━━━━━━━━━━━\u001b[0m\u001b[37m\u001b[0m \u001b[1m1s\u001b[0m 2ms/step - loss: 17.6187 - mae: 3.0012 - val_loss: 30.2068 - val_mae: 3.8592\n",
            "Epoch 55/100\n",
            "\u001b[1m404/404\u001b[0m \u001b[32m━━━━━━━━━━━━━━━━━━━━\u001b[0m\u001b[37m\u001b[0m \u001b[1m1s\u001b[0m 2ms/step - loss: 22.6508 - mae: 3.2553 - val_loss: 29.6673 - val_mae: 3.8861\n",
            "Epoch 56/100\n",
            "\u001b[1m404/404\u001b[0m \u001b[32m━━━━━━━━━━━━━━━━━━━━\u001b[0m\u001b[37m\u001b[0m \u001b[1m1s\u001b[0m 2ms/step - loss: 17.8966 - mae: 2.9805 - val_loss: 29.9637 - val_mae: 3.7779\n",
            "Epoch 57/100\n",
            "\u001b[1m404/404\u001b[0m \u001b[32m━━━━━━━━━━━━━━━━━━━━\u001b[0m\u001b[37m\u001b[0m \u001b[1m1s\u001b[0m 2ms/step - loss: 19.1836 - mae: 3.1306 - val_loss: 34.3510 - val_mae: 4.0592\n",
            "Epoch 58/100\n",
            "\u001b[1m404/404\u001b[0m \u001b[32m━━━━━━━━━━━━━━━━━━━━\u001b[0m\u001b[37m\u001b[0m \u001b[1m1s\u001b[0m 2ms/step - loss: 18.6746 - mae: 3.1059 - val_loss: 34.5171 - val_mae: 4.2346\n",
            "Epoch 59/100\n",
            "\u001b[1m404/404\u001b[0m \u001b[32m━━━━━━━━━━━━━━━━━━━━\u001b[0m\u001b[37m\u001b[0m \u001b[1m1s\u001b[0m 2ms/step - loss: 17.4402 - mae: 3.0068 - val_loss: 39.6832 - val_mae: 4.4413\n",
            "Epoch 60/100\n",
            "\u001b[1m404/404\u001b[0m \u001b[32m━━━━━━━━━━━━━━━━━━━━\u001b[0m\u001b[37m\u001b[0m \u001b[1m1s\u001b[0m 2ms/step - loss: 16.9269 - mae: 2.9488 - val_loss: 32.2198 - val_mae: 3.8602\n",
            "Epoch 61/100\n",
            "\u001b[1m404/404\u001b[0m \u001b[32m━━━━━━━━━━━━━━━━━━━━\u001b[0m\u001b[37m\u001b[0m \u001b[1m1s\u001b[0m 2ms/step - loss: 22.3209 - mae: 3.3032 - val_loss: 29.3925 - val_mae: 3.8243\n",
            "Epoch 62/100\n",
            "\u001b[1m404/404\u001b[0m \u001b[32m━━━━━━━━━━━━━━━━━━━━\u001b[0m\u001b[37m\u001b[0m \u001b[1m1s\u001b[0m 2ms/step - loss: 25.8656 - mae: 3.5255 - val_loss: 30.4346 - val_mae: 3.8158\n",
            "Epoch 63/100\n",
            "\u001b[1m404/404\u001b[0m \u001b[32m━━━━━━━━━━━━━━━━━━━━\u001b[0m\u001b[37m\u001b[0m \u001b[1m1s\u001b[0m 2ms/step - loss: 20.6449 - mae: 3.0999 - val_loss: 39.3683 - val_mae: 4.8749\n",
            "Epoch 64/100\n",
            "\u001b[1m404/404\u001b[0m \u001b[32m━━━━━━━━━━━━━━━━━━━━\u001b[0m\u001b[37m\u001b[0m \u001b[1m1s\u001b[0m 3ms/step - loss: 18.6735 - mae: 3.0339 - val_loss: 28.2219 - val_mae: 3.6636\n",
            "Epoch 65/100\n",
            "\u001b[1m404/404\u001b[0m \u001b[32m━━━━━━━━━━━━━━━━━━━━\u001b[0m\u001b[37m\u001b[0m \u001b[1m1s\u001b[0m 3ms/step - loss: 20.7381 - mae: 3.1762 - val_loss: 30.8397 - val_mae: 3.8175\n",
            "Epoch 66/100\n",
            "\u001b[1m404/404\u001b[0m \u001b[32m━━━━━━━━━━━━━━━━━━━━\u001b[0m\u001b[37m\u001b[0m \u001b[1m1s\u001b[0m 2ms/step - loss: 18.2493 - mae: 3.0437 - val_loss: 28.3606 - val_mae: 3.6260\n",
            "Epoch 67/100\n",
            "\u001b[1m404/404\u001b[0m \u001b[32m━━━━━━━━━━━━━━━━━━━━\u001b[0m\u001b[37m\u001b[0m \u001b[1m1s\u001b[0m 2ms/step - loss: 13.1564 - mae: 2.6959 - val_loss: 32.0935 - val_mae: 3.9109\n",
            "Epoch 68/100\n",
            "\u001b[1m404/404\u001b[0m \u001b[32m━━━━━━━━━━━━━━━━━━━━\u001b[0m\u001b[37m\u001b[0m \u001b[1m1s\u001b[0m 2ms/step - loss: 13.5528 - mae: 2.7217 - val_loss: 29.2563 - val_mae: 3.7688\n",
            "Epoch 69/100\n",
            "\u001b[1m404/404\u001b[0m \u001b[32m━━━━━━━━━━━━━━━━━━━━\u001b[0m\u001b[37m\u001b[0m \u001b[1m1s\u001b[0m 2ms/step - loss: 12.8745 - mae: 2.6024 - val_loss: 42.6120 - val_mae: 4.6117\n",
            "Epoch 70/100\n",
            "\u001b[1m404/404\u001b[0m \u001b[32m━━━━━━━━━━━━━━━━━━━━\u001b[0m\u001b[37m\u001b[0m \u001b[1m1s\u001b[0m 2ms/step - loss: 14.4960 - mae: 2.7458 - val_loss: 30.5201 - val_mae: 3.8567\n",
            "Epoch 71/100\n",
            "\u001b[1m404/404\u001b[0m \u001b[32m━━━━━━━━━━━━━━━━━━━━\u001b[0m\u001b[37m\u001b[0m \u001b[1m1s\u001b[0m 2ms/step - loss: 18.4718 - mae: 3.0927 - val_loss: 28.8131 - val_mae: 3.7924\n",
            "Epoch 72/100\n",
            "\u001b[1m404/404\u001b[0m \u001b[32m━━━━━━━━━━━━━━━━━━━━\u001b[0m\u001b[37m\u001b[0m \u001b[1m1s\u001b[0m 2ms/step - loss: 14.7808 - mae: 2.8162 - val_loss: 37.8429 - val_mae: 4.2425\n",
            "Epoch 73/100\n",
            "\u001b[1m404/404\u001b[0m \u001b[32m━━━━━━━━━━━━━━━━━━━━\u001b[0m\u001b[37m\u001b[0m \u001b[1m1s\u001b[0m 2ms/step - loss: 16.7949 - mae: 2.9413 - val_loss: 31.2960 - val_mae: 3.7249\n",
            "Epoch 74/100\n",
            "\u001b[1m404/404\u001b[0m \u001b[32m━━━━━━━━━━━━━━━━━━━━\u001b[0m\u001b[37m\u001b[0m \u001b[1m2s\u001b[0m 2ms/step - loss: 18.5654 - mae: 3.0327 - val_loss: 29.6168 - val_mae: 3.6023\n",
            "Epoch 75/100\n",
            "\u001b[1m404/404\u001b[0m \u001b[32m━━━━━━━━━━━━━━━━━━━━\u001b[0m\u001b[37m\u001b[0m \u001b[1m1s\u001b[0m 3ms/step - loss: 15.9234 - mae: 2.8942 - val_loss: 30.9973 - val_mae: 3.7858\n",
            "Epoch 76/100\n",
            "\u001b[1m404/404\u001b[0m \u001b[32m━━━━━━━━━━━━━━━━━━━━\u001b[0m\u001b[37m\u001b[0m \u001b[1m2s\u001b[0m 2ms/step - loss: 14.8217 - mae: 2.8283 - val_loss: 30.6447 - val_mae: 4.0310\n",
            "Epoch 77/100\n",
            "\u001b[1m404/404\u001b[0m \u001b[32m━━━━━━━━━━━━━━━━━━━━\u001b[0m\u001b[37m\u001b[0m \u001b[1m1s\u001b[0m 2ms/step - loss: 17.2300 - mae: 2.8210 - val_loss: 26.9029 - val_mae: 3.4813\n",
            "Epoch 78/100\n",
            "\u001b[1m404/404\u001b[0m \u001b[32m━━━━━━━━━━━━━━━━━━━━\u001b[0m\u001b[37m\u001b[0m \u001b[1m1s\u001b[0m 2ms/step - loss: 19.7632 - mae: 3.0932 - val_loss: 28.6332 - val_mae: 3.6844\n",
            "Epoch 79/100\n",
            "\u001b[1m404/404\u001b[0m \u001b[32m━━━━━━━━━━━━━━━━━━━━\u001b[0m\u001b[37m\u001b[0m \u001b[1m1s\u001b[0m 2ms/step - loss: 15.8773 - mae: 2.9754 - val_loss: 30.7960 - val_mae: 3.7863\n",
            "Epoch 80/100\n",
            "\u001b[1m404/404\u001b[0m \u001b[32m━━━━━━━━━━━━━━━━━━━━\u001b[0m\u001b[37m\u001b[0m \u001b[1m1s\u001b[0m 2ms/step - loss: 18.2062 - mae: 3.0034 - val_loss: 32.0392 - val_mae: 3.7813\n",
            "Epoch 81/100\n",
            "\u001b[1m404/404\u001b[0m \u001b[32m━━━━━━━━━━━━━━━━━━━━\u001b[0m\u001b[37m\u001b[0m \u001b[1m1s\u001b[0m 2ms/step - loss: 22.2458 - mae: 3.2336 - val_loss: 26.9132 - val_mae: 3.5105\n",
            "Epoch 82/100\n",
            "\u001b[1m404/404\u001b[0m \u001b[32m━━━━━━━━━━━━━━━━━━━━\u001b[0m\u001b[37m\u001b[0m \u001b[1m1s\u001b[0m 2ms/step - loss: 15.9966 - mae: 2.8673 - val_loss: 30.3560 - val_mae: 3.7871\n",
            "Epoch 83/100\n",
            "\u001b[1m404/404\u001b[0m \u001b[32m━━━━━━━━━━━━━━━━━━━━\u001b[0m\u001b[37m\u001b[0m \u001b[1m2s\u001b[0m 3ms/step - loss: 15.4592 - mae: 2.8240 - val_loss: 32.3051 - val_mae: 3.8990\n",
            "Epoch 84/100\n",
            "\u001b[1m404/404\u001b[0m \u001b[32m━━━━━━━━━━━━━━━━━━━━\u001b[0m\u001b[37m\u001b[0m \u001b[1m1s\u001b[0m 3ms/step - loss: 19.6027 - mae: 3.1702 - val_loss: 30.7500 - val_mae: 3.8273\n",
            "Epoch 85/100\n",
            "\u001b[1m404/404\u001b[0m \u001b[32m━━━━━━━━━━━━━━━━━━━━\u001b[0m\u001b[37m\u001b[0m \u001b[1m1s\u001b[0m 3ms/step - loss: 16.0252 - mae: 2.7483 - val_loss: 28.2426 - val_mae: 3.6783\n",
            "Epoch 86/100\n",
            "\u001b[1m404/404\u001b[0m \u001b[32m━━━━━━━━━━━━━━━━━━━━\u001b[0m\u001b[37m\u001b[0m \u001b[1m1s\u001b[0m 2ms/step - loss: 16.7084 - mae: 2.9274 - val_loss: 29.3742 - val_mae: 3.6268\n",
            "Epoch 87/100\n",
            "\u001b[1m404/404\u001b[0m \u001b[32m━━━━━━━━━━━━━━━━━━━━\u001b[0m\u001b[37m\u001b[0m \u001b[1m1s\u001b[0m 2ms/step - loss: 18.3108 - mae: 2.9034 - val_loss: 33.4382 - val_mae: 3.9178\n",
            "Epoch 88/100\n",
            "\u001b[1m404/404\u001b[0m \u001b[32m━━━━━━━━━━━━━━━━━━━━\u001b[0m\u001b[37m\u001b[0m \u001b[1m1s\u001b[0m 2ms/step - loss: 18.5140 - mae: 3.0443 - val_loss: 30.4339 - val_mae: 3.7668\n",
            "Epoch 89/100\n",
            "\u001b[1m404/404\u001b[0m \u001b[32m━━━━━━━━━━━━━━━━━━━━\u001b[0m\u001b[37m\u001b[0m \u001b[1m1s\u001b[0m 2ms/step - loss: 15.9430 - mae: 2.8880 - val_loss: 35.5343 - val_mae: 4.1426\n",
            "Epoch 90/100\n",
            "\u001b[1m404/404\u001b[0m \u001b[32m━━━━━━━━━━━━━━━━━━━━\u001b[0m\u001b[37m\u001b[0m \u001b[1m1s\u001b[0m 2ms/step - loss: 18.7550 - mae: 3.2141 - val_loss: 34.7751 - val_mae: 4.0733\n",
            "Epoch 91/100\n",
            "\u001b[1m404/404\u001b[0m \u001b[32m━━━━━━━━━━━━━━━━━━━━\u001b[0m\u001b[37m\u001b[0m \u001b[1m1s\u001b[0m 2ms/step - loss: 18.1811 - mae: 2.9272 - val_loss: 32.3736 - val_mae: 3.8976\n",
            "Epoch 92/100\n",
            "\u001b[1m404/404\u001b[0m \u001b[32m━━━━━━━━━━━━━━━━━━━━\u001b[0m\u001b[37m\u001b[0m \u001b[1m1s\u001b[0m 2ms/step - loss: 14.1201 - mae: 2.6525 - val_loss: 28.5027 - val_mae: 3.5290\n",
            "Epoch 93/100\n",
            "\u001b[1m404/404\u001b[0m \u001b[32m━━━━━━━━━━━━━━━━━━━━\u001b[0m\u001b[37m\u001b[0m \u001b[1m1s\u001b[0m 2ms/step - loss: 16.5232 - mae: 2.8463 - val_loss: 28.3323 - val_mae: 3.5215\n",
            "Epoch 94/100\n",
            "\u001b[1m404/404\u001b[0m \u001b[32m━━━━━━━━━━━━━━━━━━━━\u001b[0m\u001b[37m\u001b[0m \u001b[1m1s\u001b[0m 2ms/step - loss: 16.0004 - mae: 2.8641 - val_loss: 26.5643 - val_mae: 3.4560\n",
            "Epoch 95/100\n",
            "\u001b[1m404/404\u001b[0m \u001b[32m━━━━━━━━━━━━━━━━━━━━\u001b[0m\u001b[37m\u001b[0m \u001b[1m1s\u001b[0m 3ms/step - loss: 16.7073 - mae: 2.9816 - val_loss: 26.1478 - val_mae: 3.4886\n",
            "Epoch 96/100\n",
            "\u001b[1m404/404\u001b[0m \u001b[32m━━━━━━━━━━━━━━━━━━━━\u001b[0m\u001b[37m\u001b[0m \u001b[1m1s\u001b[0m 3ms/step - loss: 14.3155 - mae: 2.7324 - val_loss: 28.7846 - val_mae: 3.6789\n",
            "Epoch 97/100\n",
            "\u001b[1m404/404\u001b[0m \u001b[32m━━━━━━━━━━━━━━━━━━━━\u001b[0m\u001b[37m\u001b[0m \u001b[1m1s\u001b[0m 3ms/step - loss: 15.5109 - mae: 2.7808 - val_loss: 28.2720 - val_mae: 3.6365\n",
            "Epoch 98/100\n",
            "\u001b[1m404/404\u001b[0m \u001b[32m━━━━━━━━━━━━━━━━━━━━\u001b[0m\u001b[37m\u001b[0m \u001b[1m1s\u001b[0m 2ms/step - loss: 17.9594 - mae: 3.0511 - val_loss: 29.5531 - val_mae: 3.6200\n",
            "Epoch 99/100\n",
            "\u001b[1m404/404\u001b[0m \u001b[32m━━━━━━━━━━━━━━━━━━━━\u001b[0m\u001b[37m\u001b[0m \u001b[1m1s\u001b[0m 2ms/step - loss: 18.8064 - mae: 3.0238 - val_loss: 26.6104 - val_mae: 3.5775\n",
            "Epoch 100/100\n",
            "\u001b[1m404/404\u001b[0m \u001b[32m━━━━━━━━━━━━━━━━━━━━\u001b[0m\u001b[37m\u001b[0m \u001b[1m1s\u001b[0m 2ms/step - loss: 17.5132 - mae: 2.8591 - val_loss: 28.5142 - val_mae: 3.5105\n"
          ]
        }
      ]
    },
    {
      "cell_type": "code",
      "source": [
        "test_input = np.array(test_input)\n",
        "\n",
        "print(\"Actual output:\", y_test[0])\n",
        "print(\"Predicted output:\", model.predict(test_input))"
      ],
      "metadata": {
        "colab": {
          "base_uri": "https://localhost:8080/"
        },
        "id": "7WoR1tWZbsIO",
        "outputId": "142b38e8-1455-45b3-ec60-07969d80e627"
      },
      "execution_count": 22,
      "outputs": [
        {
          "output_type": "stream",
          "name": "stdout",
          "text": [
            "Actual output: 7.2\n",
            "\u001b[1m1/1\u001b[0m \u001b[32m━━━━━━━━━━━━━━━━━━━━\u001b[0m\u001b[37m\u001b[0m \u001b[1m0s\u001b[0m 64ms/step\n",
            "Predicted output: [[18.113945]]\n"
          ]
        }
      ]
    },
    {
      "cell_type": "code",
      "source": [],
      "metadata": {
        "id": "Zz2qSyzwcu1f"
      },
      "execution_count": null,
      "outputs": []
    }
  ]
}